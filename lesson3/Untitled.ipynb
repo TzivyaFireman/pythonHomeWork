{
 "cells": [
  {
   "cell_type": "code",
   "execution_count": 10,
   "id": "c0afdd8e-bc78-4d31-9e0e-7754ac96b669",
   "metadata": {},
   "outputs": [
    {
     "data": {
      "text/plain": [
       "[1, 2, 3]"
      ]
     },
     "execution_count": 10,
     "metadata": {},
     "output_type": "execute_result"
    }
   ],
   "source": [
    "list=[1,2,3]\n",
    "list"
   ]
  },
  {
   "cell_type": "code",
   "execution_count": 7,
   "id": "25786e77-ceb7-428e-9ecf-62b2ef927e20",
   "metadata": {},
   "outputs": [
    {
     "name": "stdout",
     "output_type": "stream",
     "text": [
      "Collecting numpy\n",
      "  Downloading numpy-1.26.3-cp310-cp310-win_amd64.whl.metadata (61 kB)\n",
      "     ---------------------------------------- 0.0/61.2 kB ? eta -:--:--\n",
      "     -------------------- ------------------- 30.7/61.2 kB ? eta -:--:--\n",
      "     -------------------------------------- 61.2/61.2 kB 809.0 kB/s eta 0:00:00\n",
      "Downloading numpy-1.26.3-cp310-cp310-win_amd64.whl (15.8 MB)\n",
      "   ---------------------------------------- 0.0/15.8 MB ? eta -:--:--\n",
      "   ---------------------------------------- 0.0/15.8 MB 1.4 MB/s eta 0:00:12\n",
      "   ---------------------------------------- 0.1/15.8 MB 871.5 kB/s eta 0:00:19\n",
      "   ---------------------------------------- 0.1/15.8 MB 950.9 kB/s eta 0:00:17\n",
      "    --------------------------------------- 0.3/15.8 MB 1.5 MB/s eta 0:00:11\n",
      "   - -------------------------------------- 0.5/15.8 MB 2.3 MB/s eta 0:00:07\n",
      "   - -------------------------------------- 0.8/15.8 MB 2.8 MB/s eta 0:00:06\n",
      "   --- ------------------------------------ 1.2/15.8 MB 3.7 MB/s eta 0:00:04\n",
      "   --- ------------------------------------ 1.4/15.8 MB 4.0 MB/s eta 0:00:04\n",
      "   ---- ----------------------------------- 2.0/15.8 MB 4.8 MB/s eta 0:00:03\n",
      "   ------ --------------------------------- 2.4/15.8 MB 5.1 MB/s eta 0:00:03\n",
      "   ------ --------------------------------- 2.7/15.8 MB 5.5 MB/s eta 0:00:03\n",
      "   ------- -------------------------------- 3.1/15.8 MB 5.5 MB/s eta 0:00:03\n",
      "   -------- ------------------------------- 3.5/15.8 MB 5.9 MB/s eta 0:00:03\n",
      "   --------- ------------------------------ 3.8/15.8 MB 6.0 MB/s eta 0:00:03\n",
      "   ---------- ----------------------------- 4.1/15.8 MB 6.0 MB/s eta 0:00:02\n",
      "   ----------- ---------------------------- 4.4/15.8 MB 6.1 MB/s eta 0:00:02\n",
      "   ----------- ---------------------------- 4.7/15.8 MB 6.2 MB/s eta 0:00:02\n",
      "   ------------ --------------------------- 5.0/15.8 MB 6.0 MB/s eta 0:00:02\n",
      "   ------------- -------------------------- 5.3/15.8 MB 6.0 MB/s eta 0:00:02\n",
      "   -------------- ------------------------- 5.6/15.8 MB 6.2 MB/s eta 0:00:02\n",
      "   --------------- ------------------------ 6.0/15.8 MB 6.3 MB/s eta 0:00:02\n",
      "   ---------------- ----------------------- 6.5/15.8 MB 6.4 MB/s eta 0:00:02\n",
      "   ---------------- ----------------------- 6.7/15.8 MB 6.3 MB/s eta 0:00:02\n",
      "   ----------------- ---------------------- 6.9/15.8 MB 6.3 MB/s eta 0:00:02\n",
      "   ----------------- ---------------------- 7.1/15.8 MB 6.2 MB/s eta 0:00:02\n",
      "   ------------------ --------------------- 7.2/15.8 MB 6.1 MB/s eta 0:00:02\n",
      "   ------------------ --------------------- 7.5/15.8 MB 6.1 MB/s eta 0:00:02\n",
      "   ------------------- -------------------- 7.7/15.8 MB 5.9 MB/s eta 0:00:02\n",
      "   -------------------- ------------------- 8.0/15.8 MB 6.0 MB/s eta 0:00:02\n",
      "   --------------------- ------------------ 8.3/15.8 MB 6.0 MB/s eta 0:00:02\n",
      "   --------------------- ------------------ 8.6/15.8 MB 6.0 MB/s eta 0:00:02\n",
      "   ---------------------- ----------------- 8.9/15.8 MB 6.0 MB/s eta 0:00:02\n",
      "   ----------------------- ---------------- 9.2/15.8 MB 6.0 MB/s eta 0:00:02\n",
      "   ----------------------- ---------------- 9.5/15.8 MB 6.1 MB/s eta 0:00:02\n",
      "   ------------------------ --------------- 9.8/15.8 MB 6.1 MB/s eta 0:00:01\n",
      "   ------------------------- -------------- 10.1/15.8 MB 6.0 MB/s eta 0:00:01\n",
      "   -------------------------- ------------- 10.4/15.8 MB 6.5 MB/s eta 0:00:01\n",
      "   --------------------------- ------------ 10.7/15.8 MB 6.6 MB/s eta 0:00:01\n",
      "   --------------------------- ------------ 10.9/15.8 MB 6.7 MB/s eta 0:00:01\n",
      "   ---------------------------- ----------- 11.2/15.8 MB 6.5 MB/s eta 0:00:01\n",
      "   ----------------------------- ---------- 11.7/15.8 MB 6.7 MB/s eta 0:00:01\n",
      "   ------------------------------ --------- 12.0/15.8 MB 6.5 MB/s eta 0:00:01\n",
      "   ------------------------------ --------- 12.2/15.8 MB 6.4 MB/s eta 0:00:01\n",
      "   ------------------------------- -------- 12.3/15.8 MB 6.4 MB/s eta 0:00:01\n",
      "   ------------------------------- -------- 12.6/15.8 MB 6.2 MB/s eta 0:00:01\n",
      "   -------------------------------- ------- 12.8/15.8 MB 6.2 MB/s eta 0:00:01\n",
      "   --------------------------------- ------ 13.1/15.8 MB 6.2 MB/s eta 0:00:01\n",
      "   --------------------------------- ------ 13.4/15.8 MB 6.1 MB/s eta 0:00:01\n",
      "   ---------------------------------- ----- 13.7/15.8 MB 6.1 MB/s eta 0:00:01\n",
      "   ----------------------------------- ---- 14.0/15.8 MB 6.1 MB/s eta 0:00:01\n",
      "   ------------------------------------ --- 14.4/15.8 MB 6.2 MB/s eta 0:00:01\n",
      "   ------------------------------------- -- 14.7/15.8 MB 6.1 MB/s eta 0:00:01\n",
      "   ------------------------------------- -- 15.0/15.8 MB 6.1 MB/s eta 0:00:01\n",
      "   -------------------------------------- - 15.4/15.8 MB 6.2 MB/s eta 0:00:01\n",
      "   ---------------------------------------  15.8/15.8 MB 6.2 MB/s eta 0:00:01\n",
      "   ---------------------------------------  15.8/15.8 MB 6.2 MB/s eta 0:00:01\n",
      "   ---------------------------------------- 15.8/15.8 MB 6.0 MB/s eta 0:00:00\n",
      "Installing collected packages: numpy\n",
      "Note: you may need to restart the kernel to use updated packages.\n"
     ]
    },
    {
     "name": "stderr",
     "output_type": "stream",
     "text": [
      "  WARNING: Failed to write executable - trying to use .deleteme logic\n",
      "ERROR: Could not install packages due to an OSError: [WinError 2] The system cannot find the file specified: 'C:\\\\Python310\\\\Scripts\\\\f2py.exe' -> 'C:\\\\Python310\\\\Scripts\\\\f2py.exe.deleteme'\n",
      "\n"
     ]
    }
   ],
   "source": [
    "pip install numpy\n"
   ]
  },
  {
   "cell_type": "code",
   "execution_count": 8,
   "id": "ee5ff61e-6a74-4b00-9461-3ae733980455",
   "metadata": {},
   "outputs": [],
   "source": [
    "import numpy as np\n"
   ]
  },
  {
   "cell_type": "code",
   "execution_count": 12,
   "id": "e92c4b34-a28b-4036-919b-b93d05583d70",
   "metadata": {},
   "outputs": [
    {
     "data": {
      "text/plain": [
       "array([1, 2, 3])"
      ]
     },
     "execution_count": 12,
     "metadata": {},
     "output_type": "execute_result"
    }
   ],
   "source": [
    "arr = np.array(list)\n",
    "arr\n"
   ]
  },
  {
   "cell_type": "code",
   "execution_count": 13,
   "id": "ca6ce3da-fb03-44ad-8603-9240864415a1",
   "metadata": {},
   "outputs": [
    {
     "data": {
      "text/plain": [
       "dtype('int32')"
      ]
     },
     "execution_count": 13,
     "metadata": {},
     "output_type": "execute_result"
    }
   ],
   "source": [
    "arr.dtype"
   ]
  },
  {
   "cell_type": "code",
   "execution_count": 14,
   "id": "80a191e4-d319-41a5-8497-2bd02c2aa7b7",
   "metadata": {},
   "outputs": [
    {
     "data": {
      "text/plain": [
       "array([47, 37, 12,  6, 47, 22, 13, 34, 21,  9])"
      ]
     },
     "execution_count": 14,
     "metadata": {},
     "output_type": "execute_result"
    }
   ],
   "source": [
    "arr2 = np.random.randint(1,50,size=(10))\n",
    "arr2"
   ]
  },
  {
   "cell_type": "code",
   "execution_count": 15,
   "id": "3d160c26-0aed-49a6-bc6b-1b429869a6ce",
   "metadata": {},
   "outputs": [
    {
     "data": {
      "text/plain": [
       "10"
      ]
     },
     "execution_count": 15,
     "metadata": {},
     "output_type": "execute_result"
    }
   ],
   "source": [
    "arr2.size"
   ]
  },
  {
   "cell_type": "code",
   "execution_count": 16,
   "id": "d80b005b-79f1-4269-b47f-a0a5864a3582",
   "metadata": {},
   "outputs": [
    {
     "data": {
      "text/plain": [
       "dtype('int32')"
      ]
     },
     "execution_count": 16,
     "metadata": {},
     "output_type": "execute_result"
    }
   ],
   "source": [
    "arr2.dtype"
   ]
  },
  {
   "cell_type": "code",
   "execution_count": 17,
   "id": "1f70e720-97fe-41ef-8ffa-590de38ca0aa",
   "metadata": {},
   "outputs": [
    {
     "data": {
      "text/plain": [
       "1"
      ]
     },
     "execution_count": 17,
     "metadata": {},
     "output_type": "execute_result"
    }
   ],
   "source": [
    "np.ndim(arr2)"
   ]
  },
  {
   "cell_type": "code",
   "execution_count": 18,
   "id": "a68f41f1-d0ab-4e2d-8b35-dc2f84a82328",
   "metadata": {},
   "outputs": [
    {
     "data": {
      "text/plain": [
       "array([[1, 2, 3],\n",
       "       [4, 5, 6]])"
      ]
     },
     "execution_count": 18,
     "metadata": {},
     "output_type": "execute_result"
    }
   ],
   "source": [
    "arr3 = np.array([[1,2,3],[4,5,6]])\n",
    "arr3"
   ]
  },
  {
   "cell_type": "code",
   "execution_count": 19,
   "id": "32814788-951f-47c4-8145-33d4c7af68f2",
   "metadata": {},
   "outputs": [
    {
     "data": {
      "text/plain": [
       "array([[57, 16, 83, 35, 42],\n",
       "       [68, 96, 16, 88, 23]])"
      ]
     },
     "execution_count": 19,
     "metadata": {},
     "output_type": "execute_result"
    }
   ],
   "source": [
    "arr4 = np.random.randint(10,100,size = (2,5))\n",
    "arr4"
   ]
  },
  {
   "cell_type": "code",
   "execution_count": 20,
   "id": "94dd2fe1-6d5d-4d61-9351-01d8c4b99fa4",
   "metadata": {},
   "outputs": [
    {
     "data": {
      "text/plain": [
       "(2, 5)"
      ]
     },
     "execution_count": 20,
     "metadata": {},
     "output_type": "execute_result"
    }
   ],
   "source": [
    "arr4.shape"
   ]
  },
  {
   "cell_type": "code",
   "execution_count": null,
   "id": "fd960016-a5da-426d-9518-b1b1873cce74",
   "metadata": {},
   "outputs": [],
   "source": []
  }
 ],
 "metadata": {
  "kernelspec": {
   "display_name": "Python 3 (ipykernel)",
   "language": "python",
   "name": "python3"
  },
  "language_info": {
   "codemirror_mode": {
    "name": "ipython",
    "version": 3
   },
   "file_extension": ".py",
   "mimetype": "text/x-python",
   "name": "python",
   "nbconvert_exporter": "python",
   "pygments_lexer": "ipython3",
   "version": "3.10.8"
  }
 },
 "nbformat": 4,
 "nbformat_minor": 5
}
