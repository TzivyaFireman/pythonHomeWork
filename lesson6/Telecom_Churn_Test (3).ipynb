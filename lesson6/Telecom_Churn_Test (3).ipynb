{
 "cells": [
  {
   "cell_type": "markdown",
   "metadata": {
    "id": "neyZFZS-9xjI"
   },
   "source": [
    "#### 1. Dataframe basics"
   ]
  },
  {
   "cell_type": "code",
   "execution_count": 3,
   "metadata": {},
   "outputs": [
    {
     "name": "stdout",
     "output_type": "stream",
     "text": [
      "Collecting pandasNote: you may need to restart the kernel to use updated packages.\n",
      "\n",
      "  Using cached pandas-2.2.1-cp310-cp310-win_amd64.whl.metadata (19 kB)\n",
      "Requirement already satisfied: numpy<2,>=1.22.4 in c:\\python310\\lib\\site-packages (from pandas) (1.26.4)\n",
      "Requirement already satisfied: python-dateutil>=2.8.2 in c:\\python310\\lib\\site-packages (from pandas) (2.8.2)\n",
      "Requirement already satisfied: pytz>=2020.1 in c:\\python310\\lib\\site-packages (from pandas) (2024.1)\n",
      "Requirement already satisfied: tzdata>=2022.7 in c:\\python310\\lib\\site-packages (from pandas) (2024.1)\n",
      "Requirement already satisfied: six>=1.5 in c:\\python310\\lib\\site-packages (from python-dateutil>=2.8.2->pandas) (1.16.0)\n",
      "Using cached pandas-2.2.1-cp310-cp310-win_amd64.whl (11.6 MB)\n",
      "Installing collected packages: pandas\n",
      "Successfully installed pandas-2.2.1\n"
     ]
    },
    {
     "name": "stderr",
     "output_type": "stream",
     "text": [
      "\n",
      "[notice] A new release of pip is available: 23.3.2 -> 24.0\n",
      "[notice] To update, run: python.exe -m pip install --upgrade pip\n"
     ]
    }
   ],
   "source": [
    "pip install pandas"
   ]
  },
  {
   "cell_type": "markdown",
   "metadata": {
    "id": "TGbfkr559xjd"
   },
   "source": [
    "#### 1.1. Import pandas and reffered the package as pd + Load \"telecom_churn.csv\" and assign in to the variable df <span style= color:#0033cc>(3 points)</span>"
   ]
  },
  {
   "cell_type": "code",
   "execution_count": 4,
   "metadata": {
    "id": "F9kNhaZb9xjh"
   },
   "outputs": [],
   "source": [
    "import pandas as pd"
   ]
  },
  {
   "cell_type": "markdown",
   "metadata": {
    "id": "538kJWla9xjl"
   },
   "source": [
    "#### 1.2 Return the column labels/names <span style= color:#0033cc>(2 points)</span>"
   ]
  },
  {
   "cell_type": "code",
   "execution_count": 7,
   "metadata": {
    "id": "nD17ANgm9xjn",
    "scrolled": true
   },
   "outputs": [
    {
     "data": {
      "text/html": [
       "<div>\n",
       "<style scoped>\n",
       "    .dataframe tbody tr th:only-of-type {\n",
       "        vertical-align: middle;\n",
       "    }\n",
       "\n",
       "    .dataframe tbody tr th {\n",
       "        vertical-align: top;\n",
       "    }\n",
       "\n",
       "    .dataframe thead th {\n",
       "        text-align: right;\n",
       "    }\n",
       "</style>\n",
       "<table border=\"1\" class=\"dataframe\">\n",
       "  <thead>\n",
       "    <tr style=\"text-align: right;\">\n",
       "      <th></th>\n",
       "      <th>State</th>\n",
       "      <th>Account length</th>\n",
       "      <th>Area code</th>\n",
       "      <th>International plan</th>\n",
       "      <th>Voice mail plan</th>\n",
       "      <th>Number vmail messages</th>\n",
       "      <th>Total day minutes</th>\n",
       "      <th>Total day calls</th>\n",
       "      <th>Total day charge</th>\n",
       "      <th>Total eve minutes</th>\n",
       "      <th>Total eve calls</th>\n",
       "      <th>Total eve charge</th>\n",
       "      <th>Total night minutes</th>\n",
       "      <th>Total night calls</th>\n",
       "      <th>Total night charge</th>\n",
       "      <th>Total intl minutes</th>\n",
       "      <th>Total intl calls</th>\n",
       "      <th>Total intl charge</th>\n",
       "      <th>Customer service calls</th>\n",
       "      <th>Churn</th>\n",
       "    </tr>\n",
       "  </thead>\n",
       "  <tbody>\n",
       "    <tr>\n",
       "      <th>0</th>\n",
       "      <td>KS</td>\n",
       "      <td>128</td>\n",
       "      <td>415</td>\n",
       "      <td>No</td>\n",
       "      <td>Yes</td>\n",
       "      <td>25</td>\n",
       "      <td>265.1</td>\n",
       "      <td>110</td>\n",
       "      <td>45.07</td>\n",
       "      <td>197.4</td>\n",
       "      <td>99</td>\n",
       "      <td>16.78</td>\n",
       "      <td>244.7</td>\n",
       "      <td>91</td>\n",
       "      <td>11.01</td>\n",
       "      <td>10.0</td>\n",
       "      <td>3</td>\n",
       "      <td>2.70</td>\n",
       "      <td>1</td>\n",
       "      <td>False</td>\n",
       "    </tr>\n",
       "    <tr>\n",
       "      <th>1</th>\n",
       "      <td>OH</td>\n",
       "      <td>107</td>\n",
       "      <td>415</td>\n",
       "      <td>No</td>\n",
       "      <td>Yes</td>\n",
       "      <td>26</td>\n",
       "      <td>161.6</td>\n",
       "      <td>123</td>\n",
       "      <td>27.47</td>\n",
       "      <td>195.5</td>\n",
       "      <td>103</td>\n",
       "      <td>16.62</td>\n",
       "      <td>254.4</td>\n",
       "      <td>103</td>\n",
       "      <td>11.45</td>\n",
       "      <td>13.7</td>\n",
       "      <td>3</td>\n",
       "      <td>3.70</td>\n",
       "      <td>1</td>\n",
       "      <td>False</td>\n",
       "    </tr>\n",
       "    <tr>\n",
       "      <th>2</th>\n",
       "      <td>NJ</td>\n",
       "      <td>137</td>\n",
       "      <td>415</td>\n",
       "      <td>No</td>\n",
       "      <td>No</td>\n",
       "      <td>0</td>\n",
       "      <td>243.4</td>\n",
       "      <td>114</td>\n",
       "      <td>41.38</td>\n",
       "      <td>121.2</td>\n",
       "      <td>110</td>\n",
       "      <td>10.30</td>\n",
       "      <td>162.6</td>\n",
       "      <td>104</td>\n",
       "      <td>7.32</td>\n",
       "      <td>12.2</td>\n",
       "      <td>5</td>\n",
       "      <td>3.29</td>\n",
       "      <td>0</td>\n",
       "      <td>False</td>\n",
       "    </tr>\n",
       "    <tr>\n",
       "      <th>3</th>\n",
       "      <td>OH</td>\n",
       "      <td>84</td>\n",
       "      <td>408</td>\n",
       "      <td>Yes</td>\n",
       "      <td>No</td>\n",
       "      <td>0</td>\n",
       "      <td>299.4</td>\n",
       "      <td>71</td>\n",
       "      <td>50.90</td>\n",
       "      <td>61.9</td>\n",
       "      <td>88</td>\n",
       "      <td>5.26</td>\n",
       "      <td>196.9</td>\n",
       "      <td>89</td>\n",
       "      <td>8.86</td>\n",
       "      <td>6.6</td>\n",
       "      <td>7</td>\n",
       "      <td>1.78</td>\n",
       "      <td>2</td>\n",
       "      <td>False</td>\n",
       "    </tr>\n",
       "    <tr>\n",
       "      <th>4</th>\n",
       "      <td>OK</td>\n",
       "      <td>75</td>\n",
       "      <td>415</td>\n",
       "      <td>Yes</td>\n",
       "      <td>No</td>\n",
       "      <td>0</td>\n",
       "      <td>166.7</td>\n",
       "      <td>113</td>\n",
       "      <td>28.34</td>\n",
       "      <td>148.3</td>\n",
       "      <td>122</td>\n",
       "      <td>12.61</td>\n",
       "      <td>186.9</td>\n",
       "      <td>121</td>\n",
       "      <td>8.41</td>\n",
       "      <td>10.1</td>\n",
       "      <td>3</td>\n",
       "      <td>2.73</td>\n",
       "      <td>3</td>\n",
       "      <td>False</td>\n",
       "    </tr>\n",
       "  </tbody>\n",
       "</table>\n",
       "</div>"
      ],
      "text/plain": [
       "  State  Account length  Area code International plan Voice mail plan  \\\n",
       "0    KS             128        415                 No             Yes   \n",
       "1    OH             107        415                 No             Yes   \n",
       "2    NJ             137        415                 No              No   \n",
       "3    OH              84        408                Yes              No   \n",
       "4    OK              75        415                Yes              No   \n",
       "\n",
       "   Number vmail messages  Total day minutes  Total day calls  \\\n",
       "0                     25              265.1              110   \n",
       "1                     26              161.6              123   \n",
       "2                      0              243.4              114   \n",
       "3                      0              299.4               71   \n",
       "4                      0              166.7              113   \n",
       "\n",
       "   Total day charge  Total eve minutes  Total eve calls  Total eve charge  \\\n",
       "0             45.07              197.4               99             16.78   \n",
       "1             27.47              195.5              103             16.62   \n",
       "2             41.38              121.2              110             10.30   \n",
       "3             50.90               61.9               88              5.26   \n",
       "4             28.34              148.3              122             12.61   \n",
       "\n",
       "   Total night minutes  Total night calls  Total night charge  \\\n",
       "0                244.7                 91               11.01   \n",
       "1                254.4                103               11.45   \n",
       "2                162.6                104                7.32   \n",
       "3                196.9                 89                8.86   \n",
       "4                186.9                121                8.41   \n",
       "\n",
       "   Total intl minutes  Total intl calls  Total intl charge  \\\n",
       "0                10.0                 3               2.70   \n",
       "1                13.7                 3               3.70   \n",
       "2                12.2                 5               3.29   \n",
       "3                 6.6                 7               1.78   \n",
       "4                10.1                 3               2.73   \n",
       "\n",
       "   Customer service calls  Churn  \n",
       "0                       1  False  \n",
       "1                       1  False  \n",
       "2                       0  False  \n",
       "3                       2  False  \n",
       "4                       3  False  "
      ]
     },
     "execution_count": 7,
     "metadata": {},
     "output_type": "execute_result"
    }
   ],
   "source": [
    "df = pd.read_csv(\"telecom_churn.csv\")\n",
    "df.head()"
   ]
  },
  {
   "cell_type": "markdown",
   "metadata": {
    "id": "TZ48WqDP9xjp"
   },
   "source": [
    "#### 1.3 Print the df shape <span style= color:#0033cc>(3 points)</span>"
   ]
  },
  {
   "cell_type": "code",
   "execution_count": null,
   "metadata": {
    "id": "NzgtJ5fV9xjs"
   },
   "outputs": [],
   "source": []
  },
  {
   "cell_type": "markdown",
   "metadata": {
    "id": "h-pvFB8b9xju"
   },
   "source": [
    "#### 2. What is the total day calls given by state and area code? "
   ]
  },
  {
   "cell_type": "markdown",
   "metadata": {
    "id": "rbsmSd919xjy"
   },
   "source": [
    "#### 2.1 Group the df by state and area code (assign it to grouped variable). <span style= color:#0033cc>(5 points)</span>"
   ]
  },
  {
   "cell_type": "code",
   "execution_count": null,
   "metadata": {
    "id": "AH6R21GQ9xj2"
   },
   "outputs": [],
   "source": []
  },
  {
   "cell_type": "markdown",
   "metadata": {
    "id": "0ziIYrwv9xj4"
   },
   "source": [
    "#### 2.2 Use agg with the desired function sum to get the final answer (assign it to telecom_agg variable).<span style= color:#0033cc>(5 points)</span>"
   ]
  },
  {
   "cell_type": "code",
   "execution_count": null,
   "metadata": {
    "id": "1eP3_Ore9xj6"
   },
   "outputs": [],
   "source": []
  },
  {
   "cell_type": "markdown",
   "metadata": {
    "id": "0lAmCalD9xj8"
   },
   "source": [
    "#### 2.3 Reset the group by index <span style= color:#0033cc>(3 points)</span>"
   ]
  },
  {
   "cell_type": "code",
   "execution_count": null,
   "metadata": {
    "id": "uHU23qpR9xj-"
   },
   "outputs": [],
   "source": []
  },
  {
   "cell_type": "markdown",
   "metadata": {
    "id": "10raVaLV9xkA"
   },
   "source": [
    "#### 2.4 Use head function to review the first 10 telecom_agg rows <span style= color:#0033cc>(3 points)</span>"
   ]
  },
  {
   "cell_type": "code",
   "execution_count": null,
   "metadata": {
    "id": "L3yw-QnO9xkC"
   },
   "outputs": [],
   "source": []
  },
  {
   "cell_type": "markdown",
   "metadata": {
    "id": "2fjl9ioL9xkD"
   },
   "source": [
    "#### 3. Users Churn rate"
   ]
  },
  {
   "cell_type": "markdown",
   "metadata": {
    "id": "8JJlIG7h9xkF"
   },
   "source": [
    "#### 3.1 Change \"Churn\" column type to an integer: <span style= color:#0033cc>(3 points)</span>"
   ]
  },
  {
   "cell_type": "code",
   "execution_count": 10,
   "metadata": {
    "id": "3Bq5V7iI9xkG"
   },
   "outputs": [],
   "source": [
    "df[\"Churn\"] = df[\"Churn\"].astype(int)"
   ]
  },
  {
   "cell_type": "markdown",
   "metadata": {
    "id": "aA2q3Ssl9xkI"
   },
   "source": [
    "#### 3.2 what is the users \"churn rate\" in our dataframe? <span style= color:#0033cc>(5 points)</span>\n",
    "Hint: the churn rate formula can be calculated as the \"number of churned\" divided by the \"total number of customers\"."
   ]
  },
  {
   "cell_type": "code",
   "execution_count": 14,
   "metadata": {
    "id": "Jx3LRSAf9xkK"
   },
   "outputs": [
    {
     "data": {
      "text/plain": [
       "0.14491449144914492"
      ]
     },
     "execution_count": 14,
     "metadata": {},
     "output_type": "execute_result"
    }
   ],
   "source": [
    "Total = df['Churn'].sum()/df[\"Churn\"].count()\n",
    "Total"
   ]
  },
  {
   "cell_type": "markdown",
   "metadata": {
    "id": "qxNRGhAS9xkL"
   },
   "source": [
    "#### 3.3  How the charn rate can affect on the company? <span style= color:#0033cc>(3 points)</span>"
   ]
  },
  {
   "cell_type": "code",
   "execution_count": 16,
   "metadata": {},
   "outputs": [
    {
     "data": {
      "text/html": [
       "<div>\n",
       "<style scoped>\n",
       "    .dataframe tbody tr th:only-of-type {\n",
       "        vertical-align: middle;\n",
       "    }\n",
       "\n",
       "    .dataframe tbody tr th {\n",
       "        vertical-align: top;\n",
       "    }\n",
       "\n",
       "    .dataframe thead th {\n",
       "        text-align: right;\n",
       "    }\n",
       "</style>\n",
       "<table border=\"1\" class=\"dataframe\">\n",
       "  <thead>\n",
       "    <tr style=\"text-align: right;\">\n",
       "      <th></th>\n",
       "      <th>Account length</th>\n",
       "      <th>Area code</th>\n",
       "      <th>Number vmail messages</th>\n",
       "      <th>Total day minutes</th>\n",
       "      <th>Total day calls</th>\n",
       "      <th>Total day charge</th>\n",
       "      <th>Total eve minutes</th>\n",
       "      <th>Total eve calls</th>\n",
       "      <th>Total eve charge</th>\n",
       "      <th>Total night minutes</th>\n",
       "      <th>Total night calls</th>\n",
       "      <th>Total night charge</th>\n",
       "      <th>Total intl minutes</th>\n",
       "      <th>Total intl calls</th>\n",
       "      <th>Total intl charge</th>\n",
       "      <th>Customer service calls</th>\n",
       "    </tr>\n",
       "  </thead>\n",
       "  <tbody>\n",
       "    <tr>\n",
       "      <th>Account length</th>\n",
       "      <td>1.000000</td>\n",
       "      <td>-0.012463</td>\n",
       "      <td>-0.004628</td>\n",
       "      <td>0.006216</td>\n",
       "      <td>0.038470</td>\n",
       "      <td>0.006214</td>\n",
       "      <td>-0.006757</td>\n",
       "      <td>0.019260</td>\n",
       "      <td>-0.006745</td>\n",
       "      <td>-0.008955</td>\n",
       "      <td>-0.013176</td>\n",
       "      <td>-0.008960</td>\n",
       "      <td>0.009514</td>\n",
       "      <td>0.020661</td>\n",
       "      <td>0.009546</td>\n",
       "      <td>-0.003796</td>\n",
       "    </tr>\n",
       "    <tr>\n",
       "      <th>Area code</th>\n",
       "      <td>-0.012463</td>\n",
       "      <td>1.000000</td>\n",
       "      <td>-0.001994</td>\n",
       "      <td>-0.008264</td>\n",
       "      <td>-0.009646</td>\n",
       "      <td>-0.008264</td>\n",
       "      <td>0.003580</td>\n",
       "      <td>-0.011886</td>\n",
       "      <td>0.003607</td>\n",
       "      <td>-0.005825</td>\n",
       "      <td>0.016522</td>\n",
       "      <td>-0.005845</td>\n",
       "      <td>-0.018288</td>\n",
       "      <td>-0.024179</td>\n",
       "      <td>-0.018395</td>\n",
       "      <td>0.027572</td>\n",
       "    </tr>\n",
       "    <tr>\n",
       "      <th>Number vmail messages</th>\n",
       "      <td>-0.004628</td>\n",
       "      <td>-0.001994</td>\n",
       "      <td>1.000000</td>\n",
       "      <td>0.000778</td>\n",
       "      <td>-0.009548</td>\n",
       "      <td>0.000776</td>\n",
       "      <td>0.017562</td>\n",
       "      <td>-0.005864</td>\n",
       "      <td>0.017578</td>\n",
       "      <td>0.007681</td>\n",
       "      <td>0.007123</td>\n",
       "      <td>0.007663</td>\n",
       "      <td>0.002856</td>\n",
       "      <td>0.013957</td>\n",
       "      <td>0.002884</td>\n",
       "      <td>-0.013263</td>\n",
       "    </tr>\n",
       "    <tr>\n",
       "      <th>Total day minutes</th>\n",
       "      <td>0.006216</td>\n",
       "      <td>-0.008264</td>\n",
       "      <td>0.000778</td>\n",
       "      <td>1.000000</td>\n",
       "      <td>0.006750</td>\n",
       "      <td>1.000000</td>\n",
       "      <td>0.007043</td>\n",
       "      <td>0.015769</td>\n",
       "      <td>0.007029</td>\n",
       "      <td>0.004323</td>\n",
       "      <td>0.022972</td>\n",
       "      <td>0.004300</td>\n",
       "      <td>-0.010155</td>\n",
       "      <td>0.008033</td>\n",
       "      <td>-0.010092</td>\n",
       "      <td>-0.013423</td>\n",
       "    </tr>\n",
       "    <tr>\n",
       "      <th>Total day calls</th>\n",
       "      <td>0.038470</td>\n",
       "      <td>-0.009646</td>\n",
       "      <td>-0.009548</td>\n",
       "      <td>0.006750</td>\n",
       "      <td>1.000000</td>\n",
       "      <td>0.006753</td>\n",
       "      <td>-0.021451</td>\n",
       "      <td>0.006462</td>\n",
       "      <td>-0.021449</td>\n",
       "      <td>0.022938</td>\n",
       "      <td>-0.019557</td>\n",
       "      <td>0.022927</td>\n",
       "      <td>0.021565</td>\n",
       "      <td>0.004574</td>\n",
       "      <td>0.021666</td>\n",
       "      <td>-0.018942</td>\n",
       "    </tr>\n",
       "    <tr>\n",
       "      <th>Total day charge</th>\n",
       "      <td>0.006214</td>\n",
       "      <td>-0.008264</td>\n",
       "      <td>0.000776</td>\n",
       "      <td>1.000000</td>\n",
       "      <td>0.006753</td>\n",
       "      <td>1.000000</td>\n",
       "      <td>0.007050</td>\n",
       "      <td>0.015769</td>\n",
       "      <td>0.007036</td>\n",
       "      <td>0.004324</td>\n",
       "      <td>0.022972</td>\n",
       "      <td>0.004301</td>\n",
       "      <td>-0.010157</td>\n",
       "      <td>0.008032</td>\n",
       "      <td>-0.010094</td>\n",
       "      <td>-0.013427</td>\n",
       "    </tr>\n",
       "    <tr>\n",
       "      <th>Total eve minutes</th>\n",
       "      <td>-0.006757</td>\n",
       "      <td>0.003580</td>\n",
       "      <td>0.017562</td>\n",
       "      <td>0.007043</td>\n",
       "      <td>-0.021451</td>\n",
       "      <td>0.007050</td>\n",
       "      <td>1.000000</td>\n",
       "      <td>-0.011430</td>\n",
       "      <td>1.000000</td>\n",
       "      <td>-0.012584</td>\n",
       "      <td>0.007586</td>\n",
       "      <td>-0.012593</td>\n",
       "      <td>-0.011035</td>\n",
       "      <td>0.002541</td>\n",
       "      <td>-0.011067</td>\n",
       "      <td>-0.012985</td>\n",
       "    </tr>\n",
       "    <tr>\n",
       "      <th>Total eve calls</th>\n",
       "      <td>0.019260</td>\n",
       "      <td>-0.011886</td>\n",
       "      <td>-0.005864</td>\n",
       "      <td>0.015769</td>\n",
       "      <td>0.006462</td>\n",
       "      <td>0.015769</td>\n",
       "      <td>-0.011430</td>\n",
       "      <td>1.000000</td>\n",
       "      <td>-0.011423</td>\n",
       "      <td>-0.002093</td>\n",
       "      <td>0.007710</td>\n",
       "      <td>-0.002056</td>\n",
       "      <td>0.008703</td>\n",
       "      <td>0.017434</td>\n",
       "      <td>0.008674</td>\n",
       "      <td>0.002423</td>\n",
       "    </tr>\n",
       "    <tr>\n",
       "      <th>Total eve charge</th>\n",
       "      <td>-0.006745</td>\n",
       "      <td>0.003607</td>\n",
       "      <td>0.017578</td>\n",
       "      <td>0.007029</td>\n",
       "      <td>-0.021449</td>\n",
       "      <td>0.007036</td>\n",
       "      <td>1.000000</td>\n",
       "      <td>-0.011423</td>\n",
       "      <td>1.000000</td>\n",
       "      <td>-0.012592</td>\n",
       "      <td>0.007596</td>\n",
       "      <td>-0.012601</td>\n",
       "      <td>-0.011043</td>\n",
       "      <td>0.002541</td>\n",
       "      <td>-0.011074</td>\n",
       "      <td>-0.012987</td>\n",
       "    </tr>\n",
       "    <tr>\n",
       "      <th>Total night minutes</th>\n",
       "      <td>-0.008955</td>\n",
       "      <td>-0.005825</td>\n",
       "      <td>0.007681</td>\n",
       "      <td>0.004323</td>\n",
       "      <td>0.022938</td>\n",
       "      <td>0.004324</td>\n",
       "      <td>-0.012584</td>\n",
       "      <td>-0.002093</td>\n",
       "      <td>-0.012592</td>\n",
       "      <td>1.000000</td>\n",
       "      <td>0.011204</td>\n",
       "      <td>0.999999</td>\n",
       "      <td>-0.015207</td>\n",
       "      <td>-0.012353</td>\n",
       "      <td>-0.015180</td>\n",
       "      <td>-0.009288</td>\n",
       "    </tr>\n",
       "    <tr>\n",
       "      <th>Total night calls</th>\n",
       "      <td>-0.013176</td>\n",
       "      <td>0.016522</td>\n",
       "      <td>0.007123</td>\n",
       "      <td>0.022972</td>\n",
       "      <td>-0.019557</td>\n",
       "      <td>0.022972</td>\n",
       "      <td>0.007586</td>\n",
       "      <td>0.007710</td>\n",
       "      <td>0.007596</td>\n",
       "      <td>0.011204</td>\n",
       "      <td>1.000000</td>\n",
       "      <td>0.011188</td>\n",
       "      <td>-0.013605</td>\n",
       "      <td>0.000305</td>\n",
       "      <td>-0.013630</td>\n",
       "      <td>-0.012802</td>\n",
       "    </tr>\n",
       "    <tr>\n",
       "      <th>Total night charge</th>\n",
       "      <td>-0.008960</td>\n",
       "      <td>-0.005845</td>\n",
       "      <td>0.007663</td>\n",
       "      <td>0.004300</td>\n",
       "      <td>0.022927</td>\n",
       "      <td>0.004301</td>\n",
       "      <td>-0.012593</td>\n",
       "      <td>-0.002056</td>\n",
       "      <td>-0.012601</td>\n",
       "      <td>0.999999</td>\n",
       "      <td>0.011188</td>\n",
       "      <td>1.000000</td>\n",
       "      <td>-0.015214</td>\n",
       "      <td>-0.012329</td>\n",
       "      <td>-0.015186</td>\n",
       "      <td>-0.009277</td>\n",
       "    </tr>\n",
       "    <tr>\n",
       "      <th>Total intl minutes</th>\n",
       "      <td>0.009514</td>\n",
       "      <td>-0.018288</td>\n",
       "      <td>0.002856</td>\n",
       "      <td>-0.010155</td>\n",
       "      <td>0.021565</td>\n",
       "      <td>-0.010157</td>\n",
       "      <td>-0.011035</td>\n",
       "      <td>0.008703</td>\n",
       "      <td>-0.011043</td>\n",
       "      <td>-0.015207</td>\n",
       "      <td>-0.013605</td>\n",
       "      <td>-0.015214</td>\n",
       "      <td>1.000000</td>\n",
       "      <td>0.032304</td>\n",
       "      <td>0.999993</td>\n",
       "      <td>-0.009640</td>\n",
       "    </tr>\n",
       "    <tr>\n",
       "      <th>Total intl calls</th>\n",
       "      <td>0.020661</td>\n",
       "      <td>-0.024179</td>\n",
       "      <td>0.013957</td>\n",
       "      <td>0.008033</td>\n",
       "      <td>0.004574</td>\n",
       "      <td>0.008032</td>\n",
       "      <td>0.002541</td>\n",
       "      <td>0.017434</td>\n",
       "      <td>0.002541</td>\n",
       "      <td>-0.012353</td>\n",
       "      <td>0.000305</td>\n",
       "      <td>-0.012329</td>\n",
       "      <td>0.032304</td>\n",
       "      <td>1.000000</td>\n",
       "      <td>0.032372</td>\n",
       "      <td>-0.017561</td>\n",
       "    </tr>\n",
       "    <tr>\n",
       "      <th>Total intl charge</th>\n",
       "      <td>0.009546</td>\n",
       "      <td>-0.018395</td>\n",
       "      <td>0.002884</td>\n",
       "      <td>-0.010092</td>\n",
       "      <td>0.021666</td>\n",
       "      <td>-0.010094</td>\n",
       "      <td>-0.011067</td>\n",
       "      <td>0.008674</td>\n",
       "      <td>-0.011074</td>\n",
       "      <td>-0.015180</td>\n",
       "      <td>-0.013630</td>\n",
       "      <td>-0.015186</td>\n",
       "      <td>0.999993</td>\n",
       "      <td>0.032372</td>\n",
       "      <td>1.000000</td>\n",
       "      <td>-0.009675</td>\n",
       "    </tr>\n",
       "    <tr>\n",
       "      <th>Customer service calls</th>\n",
       "      <td>-0.003796</td>\n",
       "      <td>0.027572</td>\n",
       "      <td>-0.013263</td>\n",
       "      <td>-0.013423</td>\n",
       "      <td>-0.018942</td>\n",
       "      <td>-0.013427</td>\n",
       "      <td>-0.012985</td>\n",
       "      <td>0.002423</td>\n",
       "      <td>-0.012987</td>\n",
       "      <td>-0.009288</td>\n",
       "      <td>-0.012802</td>\n",
       "      <td>-0.009277</td>\n",
       "      <td>-0.009640</td>\n",
       "      <td>-0.017561</td>\n",
       "      <td>-0.009675</td>\n",
       "      <td>1.000000</td>\n",
       "    </tr>\n",
       "  </tbody>\n",
       "</table>\n",
       "</div>"
      ],
      "text/plain": [
       "                        Account length  Area code  Number vmail messages  \\\n",
       "Account length                1.000000  -0.012463              -0.004628   \n",
       "Area code                    -0.012463   1.000000              -0.001994   \n",
       "Number vmail messages        -0.004628  -0.001994               1.000000   \n",
       "Total day minutes             0.006216  -0.008264               0.000778   \n",
       "Total day calls               0.038470  -0.009646              -0.009548   \n",
       "Total day charge              0.006214  -0.008264               0.000776   \n",
       "Total eve minutes            -0.006757   0.003580               0.017562   \n",
       "Total eve calls               0.019260  -0.011886              -0.005864   \n",
       "Total eve charge             -0.006745   0.003607               0.017578   \n",
       "Total night minutes          -0.008955  -0.005825               0.007681   \n",
       "Total night calls            -0.013176   0.016522               0.007123   \n",
       "Total night charge           -0.008960  -0.005845               0.007663   \n",
       "Total intl minutes            0.009514  -0.018288               0.002856   \n",
       "Total intl calls              0.020661  -0.024179               0.013957   \n",
       "Total intl charge             0.009546  -0.018395               0.002884   \n",
       "Customer service calls       -0.003796   0.027572              -0.013263   \n",
       "\n",
       "                        Total day minutes  Total day calls  Total day charge  \\\n",
       "Account length                   0.006216         0.038470          0.006214   \n",
       "Area code                       -0.008264        -0.009646         -0.008264   \n",
       "Number vmail messages            0.000778        -0.009548          0.000776   \n",
       "Total day minutes                1.000000         0.006750          1.000000   \n",
       "Total day calls                  0.006750         1.000000          0.006753   \n",
       "Total day charge                 1.000000         0.006753          1.000000   \n",
       "Total eve minutes                0.007043        -0.021451          0.007050   \n",
       "Total eve calls                  0.015769         0.006462          0.015769   \n",
       "Total eve charge                 0.007029        -0.021449          0.007036   \n",
       "Total night minutes              0.004323         0.022938          0.004324   \n",
       "Total night calls                0.022972        -0.019557          0.022972   \n",
       "Total night charge               0.004300         0.022927          0.004301   \n",
       "Total intl minutes              -0.010155         0.021565         -0.010157   \n",
       "Total intl calls                 0.008033         0.004574          0.008032   \n",
       "Total intl charge               -0.010092         0.021666         -0.010094   \n",
       "Customer service calls          -0.013423        -0.018942         -0.013427   \n",
       "\n",
       "                        Total eve minutes  Total eve calls  Total eve charge  \\\n",
       "Account length                  -0.006757         0.019260         -0.006745   \n",
       "Area code                        0.003580        -0.011886          0.003607   \n",
       "Number vmail messages            0.017562        -0.005864          0.017578   \n",
       "Total day minutes                0.007043         0.015769          0.007029   \n",
       "Total day calls                 -0.021451         0.006462         -0.021449   \n",
       "Total day charge                 0.007050         0.015769          0.007036   \n",
       "Total eve minutes                1.000000        -0.011430          1.000000   \n",
       "Total eve calls                 -0.011430         1.000000         -0.011423   \n",
       "Total eve charge                 1.000000        -0.011423          1.000000   \n",
       "Total night minutes             -0.012584        -0.002093         -0.012592   \n",
       "Total night calls                0.007586         0.007710          0.007596   \n",
       "Total night charge              -0.012593        -0.002056         -0.012601   \n",
       "Total intl minutes              -0.011035         0.008703         -0.011043   \n",
       "Total intl calls                 0.002541         0.017434          0.002541   \n",
       "Total intl charge               -0.011067         0.008674         -0.011074   \n",
       "Customer service calls          -0.012985         0.002423         -0.012987   \n",
       "\n",
       "                        Total night minutes  Total night calls  \\\n",
       "Account length                    -0.008955          -0.013176   \n",
       "Area code                         -0.005825           0.016522   \n",
       "Number vmail messages              0.007681           0.007123   \n",
       "Total day minutes                  0.004323           0.022972   \n",
       "Total day calls                    0.022938          -0.019557   \n",
       "Total day charge                   0.004324           0.022972   \n",
       "Total eve minutes                 -0.012584           0.007586   \n",
       "Total eve calls                   -0.002093           0.007710   \n",
       "Total eve charge                  -0.012592           0.007596   \n",
       "Total night minutes                1.000000           0.011204   \n",
       "Total night calls                  0.011204           1.000000   \n",
       "Total night charge                 0.999999           0.011188   \n",
       "Total intl minutes                -0.015207          -0.013605   \n",
       "Total intl calls                  -0.012353           0.000305   \n",
       "Total intl charge                 -0.015180          -0.013630   \n",
       "Customer service calls            -0.009288          -0.012802   \n",
       "\n",
       "                        Total night charge  Total intl minutes  \\\n",
       "Account length                   -0.008960            0.009514   \n",
       "Area code                        -0.005845           -0.018288   \n",
       "Number vmail messages             0.007663            0.002856   \n",
       "Total day minutes                 0.004300           -0.010155   \n",
       "Total day calls                   0.022927            0.021565   \n",
       "Total day charge                  0.004301           -0.010157   \n",
       "Total eve minutes                -0.012593           -0.011035   \n",
       "Total eve calls                  -0.002056            0.008703   \n",
       "Total eve charge                 -0.012601           -0.011043   \n",
       "Total night minutes               0.999999           -0.015207   \n",
       "Total night calls                 0.011188           -0.013605   \n",
       "Total night charge                1.000000           -0.015214   \n",
       "Total intl minutes               -0.015214            1.000000   \n",
       "Total intl calls                 -0.012329            0.032304   \n",
       "Total intl charge                -0.015186            0.999993   \n",
       "Customer service calls           -0.009277           -0.009640   \n",
       "\n",
       "                        Total intl calls  Total intl charge  \\\n",
       "Account length                  0.020661           0.009546   \n",
       "Area code                      -0.024179          -0.018395   \n",
       "Number vmail messages           0.013957           0.002884   \n",
       "Total day minutes               0.008033          -0.010092   \n",
       "Total day calls                 0.004574           0.021666   \n",
       "Total day charge                0.008032          -0.010094   \n",
       "Total eve minutes               0.002541          -0.011067   \n",
       "Total eve calls                 0.017434           0.008674   \n",
       "Total eve charge                0.002541          -0.011074   \n",
       "Total night minutes            -0.012353          -0.015180   \n",
       "Total night calls               0.000305          -0.013630   \n",
       "Total night charge             -0.012329          -0.015186   \n",
       "Total intl minutes              0.032304           0.999993   \n",
       "Total intl calls                1.000000           0.032372   \n",
       "Total intl charge               0.032372           1.000000   \n",
       "Customer service calls         -0.017561          -0.009675   \n",
       "\n",
       "                        Customer service calls  \n",
       "Account length                       -0.003796  \n",
       "Area code                             0.027572  \n",
       "Number vmail messages                -0.013263  \n",
       "Total day minutes                    -0.013423  \n",
       "Total day calls                      -0.018942  \n",
       "Total day charge                     -0.013427  \n",
       "Total eve minutes                    -0.012985  \n",
       "Total eve calls                       0.002423  \n",
       "Total eve charge                     -0.012987  \n",
       "Total night minutes                  -0.009288  \n",
       "Total night calls                    -0.012802  \n",
       "Total night charge                   -0.009277  \n",
       "Total intl minutes                   -0.009640  \n",
       "Total intl calls                     -0.017561  \n",
       "Total intl charge                    -0.009675  \n",
       "Customer service calls                1.000000  "
      ]
     },
     "execution_count": 16,
     "metadata": {},
     "output_type": "execute_result"
    }
   ],
   "source": [
    "numeric_columns = df.select_dtypes(include=['float64', 'int64']).columns\n",
    "df_corr = df[numeric_columns].corr()\n",
    "df_corr"
   ]
  },
  {
   "cell_type": "markdown",
   "metadata": {
    "id": "riCjlVAy9xkN"
   },
   "source": [
    "#### 3.4 How much time (on average) do churned users spend on the phone during daytime? <span style= color:#0033cc>(5 points)</span>\n",
    "Hint: filter churn column when the value of churn equal to 1"
   ]
  },
  {
   "cell_type": "code",
   "execution_count": 19,
   "metadata": {
    "id": "XRg3woMo9xkO"
   },
   "outputs": [
    {
     "data": {
      "text/plain": [
       "101.33540372670808"
      ]
     },
     "execution_count": 19,
     "metadata": {},
     "output_type": "execute_result"
    }
   ],
   "source": [
    "df_avg = df[df[\"Churn\"] == 1][\"Total day calls\"].mean()\n",
    "df_avg"
   ]
  },
  {
   "cell_type": "markdown",
   "metadata": {
    "id": "AoIGk7d_9xkO"
   },
   "source": [
    "#### 3.5 What is the maximum length of international calls among loyal users who do not have an international plan? ('International plan' == 'No') <span style= color:#0033cc>(5 points)</span>\n",
    "Hint: 2 filters conditions,churn equal to 0 and international plan equal to no"
   ]
  },
  {
   "cell_type": "code",
   "execution_count": 21,
   "metadata": {
    "id": "ezgNGAW99xkP"
   },
   "outputs": [
    {
     "ename": "SyntaxError",
     "evalue": "unmatched ']' (1271096762.py, line 1)",
     "output_type": "error",
     "traceback": [
      "\u001b[1;36m  Cell \u001b[1;32mIn[21], line 1\u001b[1;36m\u001b[0m\n\u001b[1;33m    df_length = df[df[\"Churn\"] == 0][\"international plan\"] == \"No\"][\"Total intl minutes\"]].max()\u001b[0m\n\u001b[1;37m                                                                  ^\u001b[0m\n\u001b[1;31mSyntaxError\u001b[0m\u001b[1;31m:\u001b[0m unmatched ']'\n"
     ]
    }
   ],
   "source": [
    "df_length = df[df[\"Churn\"] == 0][\"international plan\"] == \"No\"][\"Total intl minutes\"]].max()\n",
    "df_length"
   ]
  },
  {
   "cell_type": "markdown",
   "metadata": {
    "id": "mOUwkweH9xkQ"
   },
   "source": [
    "#### 4. Select top 3 international plan subscribers and non subscribers with the most intl calls"
   ]
  },
  {
   "cell_type": "markdown",
   "metadata": {
    "id": "3MH7u5NW9xkS"
   },
   "source": [
    "#### 4.1. Build a function top which attributes df, n (for the top n) and column. In this function use sort_values to sort the values in the column specified. <span style= color:#0033cc>(10 points)</span>\n",
    "Note: Do not apply the function on the whole data frame (e.i. top(df, n=3)) as the output will be the top 3 regardless of subscribers and non-subscribers."
   ]
  },
  {
   "cell_type": "code",
   "execution_count": null,
   "metadata": {
    "id": "BuqY5DHI9xkU"
   },
   "outputs": [],
   "source": []
  },
  {
   "cell_type": "markdown",
   "metadata": {
    "id": "gWbsNCnt9xkV"
   },
   "source": [
    "#### 4.2. Group the df dataframe by 'International plan' and use apply(top) to apply this function. <span style= color:#0033cc>(5 points)</span>"
   ]
  },
  {
   "cell_type": "code",
   "execution_count": null,
   "metadata": {
    "id": "iLj7of3s9xkV"
   },
   "outputs": [],
   "source": []
  },
  {
   "cell_type": "markdown",
   "metadata": {
    "id": "DaPf0inB9xkW"
   },
   "source": [
    "#### 5. pd.crosstab"
   ]
  },
  {
   "cell_type": "markdown",
   "metadata": {
    "id": "oGzK6u5G9xkX"
   },
   "source": [
    "#### 5.1 how the observations in our sample are normalized (divide each value by the sum of the values) in the context of two variables - Churn and Voice mail plan. To do so, build a contingency table using the crosstab method. <span style= color:#0033cc>(6 points)</span>\n",
    "Hint: To normalize using all values, simply set normalize=True"
   ]
  },
  {
   "cell_type": "code",
   "execution_count": null,
   "metadata": {
    "id": "Un8rI1Py9xkY"
   },
   "outputs": [],
   "source": []
  },
  {
   "cell_type": "markdown",
   "metadata": {
    "id": "g91pLbIg9xkZ"
   },
   "source": [
    "#### 5.2 What is the conclustion of most of users regarding voice mail usage? <span style= color:#0033cc>(4 points)</span>"
   ]
  },
  {
   "cell_type": "markdown",
   "metadata": {
    "id": "AbZ1hgAb9xka"
   },
   "source": []
  },
  {
   "cell_type": "markdown",
   "metadata": {
    "id": "dZNUPRdk9xkb"
   },
   "source": [
    "#### 6. Columns calculations"
   ]
  },
  {
   "cell_type": "markdown",
   "metadata": {
    "id": "q-s_pq8T9xkb"
   },
   "source": [
    "#### 6.1 Add a column name 'total_charge', and get the total charge by sum all the charge columns <span style= color:#0033cc>(7 points)</span>"
   ]
  },
  {
   "cell_type": "code",
   "execution_count": null,
   "metadata": {
    "id": "xTWElLXC9xkc"
   },
   "outputs": [],
   "source": []
  },
  {
   "cell_type": "markdown",
   "metadata": {
    "id": "dhI9MhJ-9xkd"
   },
   "source": [
    "####  6.2 Add a column name 'Day_charge_pct', and get day charge precentage of total charge by dividing the column 'Total day charge' by the column 'total_charge'. <span style= color:#0033cc>(7 points)</span>"
   ]
  },
  {
   "cell_type": "code",
   "execution_count": null,
   "metadata": {
    "id": "tOdt1BhW9xke"
   },
   "outputs": [],
   "source": []
  },
  {
   "cell_type": "markdown",
   "metadata": {
    "id": "uXK32Gb-9xke"
   },
   "source": [
    "#### 7. Day charge percentage and state visualization"
   ]
  },
  {
   "cell_type": "markdown",
   "metadata": {
    "id": "F9eE6N3q9xkf"
   },
   "source": [
    "#### 7.1 Import matplotlib.pyplot and referred the package as plt <span style= color:#0033cc>(2 points)</span>"
   ]
  },
  {
   "cell_type": "code",
   "execution_count": null,
   "metadata": {
    "id": "xjtstUin9xkg"
   },
   "outputs": [],
   "source": []
  },
  {
   "cell_type": "markdown",
   "metadata": {
    "id": "_JxacDnh9xkh"
   },
   "source": [
    "#### 7.2 create new string list with the name 'my_color' that contains the following colors names: red,green,orange,blue,yellow <span style= color:#0033cc>(4 points)</span>"
   ]
  },
  {
   "cell_type": "code",
   "execution_count": null,
   "metadata": {
    "id": "E7GJzmmS9xki"
   },
   "outputs": [],
   "source": []
  },
  {
   "cell_type": "markdown",
   "metadata": {
    "id": "vrPLcvrv9xkj"
   },
   "source": [
    "#### 7.3 Bar chart plot <span style= color:#0033cc>(10 points)</span>"
   ]
  },
  {
   "cell_type": "markdown",
   "metadata": {
    "id": "LQ_JHujM9xkl"
   },
   "source": [
    "1.Select first 5 rows of the dataframe (use df.iloc[]) "
   ]
  },
  {
   "cell_type": "markdown",
   "metadata": {
    "id": "406li2ru9xkm"
   },
   "source": [
    "2.Use <span style= color:blue>df.plot</span> function with kind='bar' and x='State' and y='Day_charge_pct' and color = my_colors to make a simple bar chart plot (of the day chart %)."
   ]
  },
  {
   "cell_type": "markdown",
   "metadata": {
    "id": "B2Jn0g049xkn"
   },
   "source": [
    "3.Use <span style= color:blue>plt.xlabel(\"State Code\")</span> and <span style= color:blue>plt.ylabel(\"Day Charge %\")</span> to label the corresponding axes"
   ]
  },
  {
   "cell_type": "code",
   "execution_count": null,
   "metadata": {
    "id": "4sWDGhMB9xkn"
   },
   "outputs": [],
   "source": []
  }
 ],
 "metadata": {
  "colab": {
   "name": "Telecom_Churn_Test.ipynb",
   "provenance": []
  },
  "kernelspec": {
   "display_name": "Python 3 (ipykernel)",
   "language": "python",
   "name": "python3"
  },
  "language_info": {
   "codemirror_mode": {
    "name": "ipython",
    "version": 3
   },
   "file_extension": ".py",
   "mimetype": "text/x-python",
   "name": "python",
   "nbconvert_exporter": "python",
   "pygments_lexer": "ipython3",
   "version": "3.10.8"
  }
 },
 "nbformat": 4,
 "nbformat_minor": 4
}
